{
 "cells": [
  {
   "cell_type": "markdown",
   "id": "c8e0d496-25a8-49f8-b5a9-4ccd7c330c32",
   "metadata": {},
   "source": [
    "# My Jupyter Notebook on IBM Watson Studio"
   ]
  },
  {
   "cell_type": "markdown",
   "id": "89ec689e-b9eb-485b-a605-697c8de32c60",
   "metadata": {},
   "source": [
    "__FRANCESCO__"
   ]
  },
  {
   "cell_type": "markdown",
   "id": "efed2e2c-2aa9-4edc-afe8-8f9658ac05ce",
   "metadata": {},
   "source": [
    "I'm currently working as accoutnant "
   ]
  },
  {
   "cell_type": "markdown",
   "id": "5d5734ca-2343-4cb1-bab5-a8edfbcbff7a",
   "metadata": {},
   "source": [
    "*I am interested in data science because i would like to understand more about datas*"
   ]
  },
  {
   "cell_type": "markdown",
   "id": "ca58c6a3-1900-41b3-ace8-2023d6941beb",
   "metadata": {},
   "source": [
    "### In the following code line i will show as works printing code"
   ]
  },
  {
   "cell_type": "code",
   "execution_count": 1,
   "id": "6e58e1cd-15ef-42ce-b0eb-056f258a17ad",
   "metadata": {},
   "outputs": [
    {
     "name": "stdout",
     "output_type": "stream",
     "text": [
      "hello, my name is Francesco\n"
     ]
    }
   ],
   "source": [
    "print (\"hello, my name is Francesco\")"
   ]
  },
  {
   "cell_type": "markdown",
   "id": "958b460d-5d6e-4ad3-9473-a64b27fe419e",
   "metadata": {},
   "source": [
    "| Francesco | Sonia |\n",
    "|----|----|\n",
    "| Basket | Football |"
   ]
  },
  {
   "cell_type": "markdown",
   "id": "da2fa8ba-306e-40f9-a993-90c5ad41bae6",
   "metadata": {},
   "source": [
    "<a href= \"https://www.google.it\"> Let's find something news on Google </a>"
   ]
  },
  {
   "cell_type": "markdown",
   "id": "57935b82-e9c1-4692-af2e-e0fe61cb2f9f",
   "metadata": {},
   "source": [
    "* Basket\n",
    "* Golf\n",
    "* Football\n",
    "* mma"
   ]
  },
  {
   "cell_type": "code",
   "execution_count": null,
   "id": "628c2ea2-c5e0-44fe-83bb-4bdd5af7723d",
   "metadata": {},
   "outputs": [],
   "source": []
  }
 ],
 "metadata": {
  "kernelspec": {
   "display_name": "Python",
   "language": "python",
   "name": "conda-env-python-py"
  },
  "language_info": {
   "codemirror_mode": {
    "name": "ipython",
    "version": 3
   },
   "file_extension": ".py",
   "mimetype": "text/x-python",
   "name": "python",
   "nbconvert_exporter": "python",
   "pygments_lexer": "ipython3",
   "version": "3.7.12"
  }
 },
 "nbformat": 4,
 "nbformat_minor": 5
}
